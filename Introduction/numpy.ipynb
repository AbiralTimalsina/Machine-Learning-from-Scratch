{
 "cells": [
  {
   "cell_type": "markdown",
   "metadata": {},
   "source": [
    "# Introduction to NumPy\n",
    "### What we will cover?\n",
    "* 1 Creating Single Dimensional arrays\n",
    "* 2 Multidimensional array\n",
    "* 3 Randomly generated arrays\n",
    "* 4 Element wise operation\n",
    "* 5 Summarizing operations"
   ]
  },
  {
   "cell_type": "markdown",
   "metadata": {},
   "source": [
    "## Single Dimensional Arrays"
   ]
  },
  {
   "cell_type": "code",
   "metadata": {
    "ExecuteTime": {
     "end_time": "2025-02-17T05:04:10.176254Z",
     "start_time": "2025-02-17T05:04:10.068936Z"
    }
   },
   "source": [
    "import numpy as np"
   ],
   "outputs": [],
   "execution_count": 1
  },
  {
   "cell_type": "code",
   "metadata": {
    "ExecuteTime": {
     "end_time": "2025-02-17T05:04:14.838636Z",
     "start_time": "2025-02-17T05:04:14.821833Z"
    }
   },
   "source": [
    "# Create an array with all the elements to be zero\n",
    "\n",
    "np.zeros(5)"
   ],
   "outputs": [
    {
     "data": {
      "text/plain": [
       "array([0., 0., 0., 0., 0.])"
      ]
     },
     "execution_count": 3,
     "metadata": {},
     "output_type": "execute_result"
    }
   ],
   "execution_count": 3
  },
  {
   "cell_type": "code",
   "metadata": {
    "ExecuteTime": {
     "end_time": "2025-02-17T05:04:18.600528Z",
     "start_time": "2025-02-17T05:04:18.587755Z"
    }
   },
   "source": [
    "# Create an array with all element 1\n",
    "\n",
    "np.ones(5)"
   ],
   "outputs": [
    {
     "data": {
      "text/plain": [
       "array([1., 1., 1., 1., 1.])"
      ]
     },
     "execution_count": 4,
     "metadata": {},
     "output_type": "execute_result"
    }
   ],
   "execution_count": 4
  },
  {
   "cell_type": "code",
   "execution_count": 23,
   "metadata": {},
   "outputs": [
    {
     "data": {
      "text/plain": [
       "array([3, 3, 3, 3, 3, 3, 3, 3, 3, 3])"
      ]
     },
     "execution_count": 23,
     "metadata": {},
     "output_type": "execute_result"
    }
   ],
   "source": [
    "# Create an array of size 10 with all elements 3\n",
    "\n",
    "np.full(10, 3)"
   ]
  },
  {
   "cell_type": "code",
   "execution_count": 24,
   "metadata": {},
   "outputs": [
    {
     "data": {
      "text/plain": [
       "array([1, 2, 3, 4, 5])"
      ]
     },
     "execution_count": 24,
     "metadata": {},
     "output_type": "execute_result"
    }
   ],
   "source": [
    "# Create an array with different elements\n",
    "np.array([1, 2, 3, 4, 5])"
   ]
  },
  {
   "cell_type": "code",
   "execution_count": 25,
   "metadata": {},
   "outputs": [
    {
     "data": {
      "text/plain": [
       "array([3, 4, 5, 6, 7, 8, 9])"
      ]
     },
     "execution_count": 25,
     "metadata": {},
     "output_type": "execute_result"
    }
   ],
   "source": [
    "# Create an array with  range\n",
    "np.arange(3,10)"
   ]
  },
  {
   "cell_type": "code",
   "execution_count": 26,
   "metadata": {},
   "outputs": [
    {
     "data": {
      "text/plain": [
       "array([  0.,  10.,  20.,  30.,  40.,  50.,  60.,  70.,  80.,  90., 100.])"
      ]
     },
     "execution_count": 26,
     "metadata": {},
     "output_type": "execute_result"
    }
   ],
   "source": [
    "# Create an array with evenly spaced numbers within a specified range\n",
    "np.linspace(0,100,11)"
   ]
  },
  {
   "cell_type": "markdown",
   "metadata": {},
   "source": [
    "## Multidimensional arrays"
   ]
  },
  {
   "cell_type": "code",
   "execution_count": 27,
   "metadata": {},
   "outputs": [
    {
     "data": {
      "text/plain": [
       "array([[0., 0., 0.],\n",
       "       [0., 0., 0.],\n",
       "       [0., 0., 0.]])"
      ]
     },
     "execution_count": 27,
     "metadata": {},
     "output_type": "execute_result"
    }
   ],
   "source": [
    "# Create a  3*3 matrix with all elements zeros\n",
    "np.zeros([3,3])"
   ]
  },
  {
   "cell_type": "code",
   "execution_count": 28,
   "metadata": {},
   "outputs": [
    {
     "data": {
      "text/plain": [
       "array([[1., 1., 1.],\n",
       "       [1., 1., 1.],\n",
       "       [1., 1., 1.]])"
      ]
     },
     "execution_count": 28,
     "metadata": {},
     "output_type": "execute_result"
    }
   ],
   "source": [
    "# Create square matrix with all elements one\n",
    "np.ones([3,3])"
   ]
  },
  {
   "cell_type": "code",
   "execution_count": 29,
   "metadata": {},
   "outputs": [
    {
     "name": "stdout",
     "output_type": "stream",
     "text": [
      "[[ 1 20  3]\n",
      " [ 4  5  6]\n",
      " [ 7  8  9]]\n",
      "[[ 1 20  3]\n",
      " [ 4  5  6]\n",
      " [ 1  1  1]]\n",
      "[[ 1 20  2]\n",
      " [ 4  5  2]\n",
      " [ 1  1  2]]\n"
     ]
    }
   ],
   "source": [
    "# create a multidimensional array with different elements\n",
    "arr=np.array([[1,2,3],[4,5,6],[7,8,9]])\n",
    "#replace 2 with 20\n",
    "arr[0][1]=20\n",
    "print(arr)\n",
    "\n",
    "#replace last row with 1\n",
    "arr[2:]=1\n",
    "print(arr)\n",
    "\n",
    "# replace column 3 with 2\n",
    "arr[:,2]=2\n",
    "print(arr)"
   ]
  },
  {
   "cell_type": "code",
   "execution_count": 30,
   "metadata": {},
   "outputs": [
    {
     "data": {
      "text/plain": [
       "array([[10, 10, 10],\n",
       "       [10, 10, 10],\n",
       "       [10, 10, 10]])"
      ]
     },
     "execution_count": 30,
     "metadata": {},
     "output_type": "execute_result"
    }
   ],
   "source": [
    "# Create a matrix 3*3 with all elements 10\n",
    "\n",
    "np.full((3,3),10)"
   ]
  },
  {
   "cell_type": "markdown",
   "metadata": {},
   "source": [
    "## Randomly generated arrays\n",
    " * Numpy can create arrays filled with random numbers\n",
    " * To ensure the reproductbility , you can seed using `np.random.seed()`\n",
    " * It will generate the exact same random number for each executions.\n",
    " * If you remove or change the seed values, the sequece of random numbers will be changed.\n"
   ]
  },
  {
   "cell_type": "code",
   "execution_count": 31,
   "metadata": {},
   "outputs": [
    {
     "data": {
      "text/plain": [
       "array([0.76804173, 0.77144342, 0.87825067, 0.02008994, 0.03071942])"
      ]
     },
     "execution_count": 31,
     "metadata": {},
     "output_type": "execute_result"
    }
   ],
   "source": [
    "# Create a matrix with random numbers\n",
    "np.random.rand(5)"
   ]
  },
  {
   "cell_type": "code",
   "execution_count": 32,
   "metadata": {},
   "outputs": [
    {
     "data": {
      "text/plain": [
       "array([0.52191572, 0.69940637, 0.26986897, 0.67448187, 0.90807208])"
      ]
     },
     "execution_count": 32,
     "metadata": {},
     "output_type": "execute_result"
    }
   ],
   "source": [
    "# Create a matrix with random numbers with fixed value\n",
    "np.random.seed(80)\n",
    "np.random.rand(5)"
   ]
  },
  {
   "cell_type": "code",
   "execution_count": 33,
   "metadata": {},
   "outputs": [
    {
     "data": {
      "text/plain": [
       "array([[-1.03446493,  0.66424004],\n",
       "       [-1.13937438, -0.89472205],\n",
       "       [-0.2207972 , -0.43007258],\n",
       "       [ 1.19972246,  0.1222967 ],\n",
       "       [ 0.54794733, -0.52658091]])"
      ]
     },
     "execution_count": 33,
     "metadata": {},
     "output_type": "execute_result"
    }
   ],
   "source": [
    "# Create random matrix with normal distribution\n",
    "np.random.randn(5,2)"
   ]
  },
  {
   "cell_type": "code",
   "execution_count": 34,
   "metadata": {},
   "outputs": [
    {
     "data": {
      "text/plain": [
       "array([[ 7, 69],\n",
       "       [96, 56],\n",
       "       [15,  3],\n",
       "       [94, 39],\n",
       "       [51, 94]])"
      ]
     },
     "execution_count": 34,
     "metadata": {},
     "output_type": "execute_result"
    }
   ],
   "source": [
    "# create a matrix with random integers\n",
    "np.random.randint(low=0, high=100, size=(5,2))"
   ]
  },
  {
   "cell_type": "markdown",
   "metadata": {},
   "source": [
    "## Element wise operation on entire arrays element by element"
   ]
  },
  {
   "cell_type": "code",
   "execution_count": 35,
   "metadata": {},
   "outputs": [
    {
     "name": "stdout",
     "output_type": "stream",
     "text": [
      "[0 1 2 3 4]\n",
      "[10 12 14 16 18]\n"
     ]
    }
   ],
   "source": [
    "a = np.arange(5)\n",
    "b = (10 + (a*2))\n",
    "print(a)\n",
    "print(b)"
   ]
  },
  {
   "cell_type": "code",
   "execution_count": 36,
   "metadata": {},
   "outputs": [
    {
     "data": {
      "text/plain": [
       "array([False, False, False, False, False])"
      ]
     },
     "execution_count": 36,
     "metadata": {},
     "output_type": "execute_result"
    }
   ],
   "source": [
    "# Comparision operations\n",
    "a==b\n"
   ]
  },
  {
   "cell_type": "code",
   "execution_count": 37,
   "metadata": {},
   "outputs": [
    {
     "data": {
      "text/plain": [
       "array([False, False,  True,  True,  True])"
      ]
     },
     "execution_count": 37,
     "metadata": {},
     "output_type": "execute_result"
    }
   ],
   "source": [
    "a>=2"
   ]
  },
  {
   "cell_type": "code",
   "execution_count": 38,
   "metadata": {},
   "outputs": [
    {
     "name": "stdout",
     "output_type": "stream",
     "text": [
      "1\n",
      "5\n",
      "15\n",
      "3.0\n",
      "1.4142135623730951\n",
      "2.0\n",
      "[ 1  3  6 10 15]\n",
      "[  1   2   6  24 120]\n",
      "4\n",
      "0\n"
     ]
    }
   ],
   "source": [
    "# summarizing of the data\n",
    "# numpy provides function for summarizing array data\n",
    "\n",
    "a=np.array([1,2,3,4,5])\n",
    "print(a.min())\n",
    "print(a.max())\n",
    "print(a.sum())\n",
    "print(a.mean())\n",
    "print(a.std())\n",
    "print(a.var())\n",
    "print(a.cumsum())\n",
    "print(a.cumprod())\n",
    "print(a.argmax())\n",
    "print(a.argmin())"
   ]
  }
 ],
 "metadata": {
  "kernelspec": {
   "display_name": "base",
   "language": "python",
   "name": "python3"
  },
  "language_info": {
   "codemirror_mode": {
    "name": "ipython",
    "version": 3
   },
   "file_extension": ".py",
   "mimetype": "text/x-python",
   "name": "python",
   "nbconvert_exporter": "python",
   "pygments_lexer": "ipython3",
   "version": "3.12.7"
  }
 },
 "nbformat": 4,
 "nbformat_minor": 2
}
